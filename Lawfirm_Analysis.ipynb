{
 "cells": [
  {
   "cell_type": "markdown",
   "metadata": {},
   "source": [
    "# Morgan & Morgan Business Analyst Evaluation"
   ]
  },
  {
   "cell_type": "markdown",
   "metadata": {},
   "source": [
    "In this notebook you will find insights and analysis on revenue, profit, expenses, and employee performance.This analysis will look into how each department and office is performing, within the past three years and find that "
   ]
  },
  {
   "cell_type": "code",
   "execution_count": 1,
   "metadata": {
    "ExecuteTime": {
     "end_time": "2021-09-10T16:12:22.796848Z",
     "start_time": "2021-09-10T16:12:21.349749Z"
    }
   },
   "outputs": [],
   "source": [
    "import pandas as pd\n",
    "import matplotlib.pyplot as plt\n",
    "import numpy as np\n",
    "import seaborn as sns"
   ]
  },
  {
   "cell_type": "code",
   "execution_count": null,
   "metadata": {
    "ExecuteTime": {
     "start_time": "2021-09-10T16:12:21.351Z"
    }
   },
   "outputs": [],
   "source": [
    "settle= pd.read_excel('settlement.xlsx')\n",
    "emp=pd.read_excel('employee.xlsx')"
   ]
  },
  {
   "cell_type": "markdown",
   "metadata": {},
   "source": [
    "## 1. Department's total revenue and average fee in 2019, 2020 & 2021"
   ]
  },
  {
   "cell_type": "code",
   "execution_count": null,
   "metadata": {
    "ExecuteTime": {
     "start_time": "2021-09-10T16:12:21.354Z"
    }
   },
   "outputs": [],
   "source": [
    "growth=pd.merge(emp,settle,left_on='Employee ID',right_on='Handling Attorney: Employee ID')\\\n",
    "[['Resolution Date','Case Expenses','Settlement Amount','Department','Office']]"
   ]
  },
  {
   "cell_type": "code",
   "execution_count": null,
   "metadata": {
    "ExecuteTime": {
     "start_time": "2021-09-10T16:12:21.357Z"
    },
    "scrolled": false
   },
   "outputs": [],
   "source": [
    "growth=pd.merge(emp,settle,left_on='Employee ID',right_on='Handling Attorney: Employee ID')[['Resolution Date','Case Expenses','Settlement Amount','Department','Office']]\n",
    "growth['month_year']=pd.DatetimeIndex(pd.to_datetime(growth['Resolution Date'],format='%Y%m%d')).to_period('M').to_timestamp()\n",
    "growth['year']=pd.DatetimeIndex(pd.to_datetime(growth['Resolution Date'],format='%Y%m%d')).year\n",
    "growth['profit']=growth['Settlement Amount']-growth['Case Expenses']\n",
    "growth.head()"
   ]
  },
  {
   "cell_type": "markdown",
   "metadata": {},
   "source": [
    "### Total Revenue "
   ]
  },
  {
   "cell_type": "code",
   "execution_count": null,
   "metadata": {
    "ExecuteTime": {
     "start_time": "2021-09-10T16:12:21.360Z"
    },
    "scrolled": true
   },
   "outputs": [],
   "source": [
    "sns.set('talk')\n",
    "ax=sns.catplot(\n",
    "    y='Department',x='profit',hue='year',data=growth,kind='bar',ci=None,dodge = True,\n",
    "    aspect=2,palette=\"Blues\", legend_out=False)\\\n",
    "    .set(xlabel='Profit',ylabel='')\n",
    "plt.savefig('yavgtot',transparent=True)"
   ]
  },
  {
   "cell_type": "markdown",
   "metadata": {},
   "source": [
    "When it comes to average revenue, Overall 'Worker's Comp\" has brought the biggest revenue of over 12000k for all three years. Although its seen that revenue has decreased over the following years. "
   ]
  },
  {
   "cell_type": "markdown",
   "metadata": {},
   "source": [
    "### Average Fee"
   ]
  },
  {
   "cell_type": "code",
   "execution_count": null,
   "metadata": {
    "ExecuteTime": {
     "start_time": "2021-09-10T16:12:21.362Z"
    },
    "scrolled": true
   },
   "outputs": [],
   "source": [
    "sns.set('talk')\n",
    "ax=sns.catplot(\n",
    "    y='Department',x='Case Expenses',ci=None,hue='year',data=growth,\n",
    "    kind='bar',dodge = True,aspect=2,palette=\"Blues\", legend_out=False)\\\n",
    "    .set( xlabel='Profit',ylabel='')\n",
    "plt.savefig('yavgex',transparent=True)"
   ]
  },
  {
   "cell_type": "markdown",
   "metadata": {},
   "source": [
    "## 2. Office's year-over-year growth in revenue."
   ]
  },
  {
   "cell_type": "code",
   "execution_count": null,
   "metadata": {
    "ExecuteTime": {
     "start_time": "2021-09-10T16:12:21.365Z"
    },
    "scrolled": false
   },
   "outputs": [],
   "source": [
    "sns.set('talk')\n",
    "ax=sns.catplot(\n",
    "    x='Office',y='profit',hue='year',data=growth,dodge = True,ci=None,kind='bar',\n",
    "    aspect=2.5,palette=\"Blues_r\", legend_out=False)\\\n",
    "    .set( xlabel='Profit',ylabel='')\n",
    "plt.savefig('yrovyr',transparent=True)"
   ]
  },
  {
   "cell_type": "markdown",
   "metadata": {},
   "source": [
    "## 3. Detailed analysis of which departments or offices the firm should expand or scale back."
   ]
  },
  {
   "cell_type": "markdown",
   "metadata": {},
   "source": [
    "### Departments"
   ]
  },
  {
   "cell_type": "code",
   "execution_count": null,
   "metadata": {
    "ExecuteTime": {
     "start_time": "2021-09-10T16:12:21.366Z"
    }
   },
   "outputs": [],
   "source": [
    "exp_scale=pd.merge(emp,settle,left_on='Employee ID',right_on='Handling Attorney: Employee ID')\\\n",
    "[['Hire Date','Resolution Date','Handling Attorney Name',\"Office\",\"Department\",'Settlement Amount','Case Expenses','Case Number']]"
   ]
  },
  {
   "cell_type": "code",
   "execution_count": null,
   "metadata": {
    "ExecuteTime": {
     "start_time": "2021-09-10T16:12:21.383Z"
    }
   },
   "outputs": [],
   "source": [
    "exp_scale['profit']=exp_scale['Settlement Amount']-exp_scale['Case Expenses']\n",
    "exp_scale['month_year']=pd.DatetimeIndex(pd.to_datetime(exp_scale['Resolution Date'],format='%Y%m%d')).to_period('M').to_timestamp()\n",
    "exp_scale['year']=pd.DatetimeIndex(pd.to_datetime(exp_scale['Resolution Date'],format='%Y%m%d')).year\n"
   ]
  },
  {
   "cell_type": "code",
   "execution_count": null,
   "metadata": {
    "ExecuteTime": {
     "start_time": "2021-09-10T16:12:21.385Z"
    }
   },
   "outputs": [],
   "source": [
    "dep_scale=exp_scale.loc[\n",
    "    [i for i in exp_scale.index if exp_scale.Department[i] in ['Workers Comp','Premises','Medical Malpractice']]\n",
    "    ]"
   ]
  },
  {
   "cell_type": "code",
   "execution_count": null,
   "metadata": {
    "ExecuteTime": {
     "start_time": "2021-09-10T16:12:21.389Z"
    }
   },
   "outputs": [],
   "source": [
    "palette = sns.color_palette(\"mako\", 3)\n",
    "plt.figure(figsize=(10,5))\n",
    "sns.lineplot(x='month_year',y='profit', hue='Department', data= dep_scale,palette=palette,)\n",
    "plt.xlabel('Month - Year Period')\n",
    "plt.ylabel('Profit')\n",
    "plt.xticks(rotation = 45, ha = 'right')\n",
    "plt.legend(bbox_to_anchor=(1, 1), loc=2)\n",
    "plt.savefig('mthrev',transparent=True, bbox_inches='tight')"
   ]
  },
  {
   "cell_type": "markdown",
   "metadata": {},
   "source": [
    "### Offices"
   ]
  },
  {
   "cell_type": "code",
   "execution_count": null,
   "metadata": {
    "ExecuteTime": {
     "start_time": "2021-09-10T16:12:21.391Z"
    }
   },
   "outputs": [],
   "source": [
    "of_dist=growth[growth['Settlement Amount']<100000]"
   ]
  },
  {
   "cell_type": "code",
   "execution_count": null,
   "metadata": {
    "ExecuteTime": {
     "start_time": "2021-09-10T16:12:21.393Z"
    },
    "scrolled": true
   },
   "outputs": [],
   "source": [
    "ax=sns.catplot(\n",
    "    y='Office',x='Settlement Amount',data=of_dist,dodge = True,kind='box',aspect=2,\n",
    "    palette=\"Blues_r\", legend_out=False)\n",
    "plt.xlabel('Revenue')\n",
    "plt.ylabel('')\n",
    "plt.title('')\n",
    "plt.savefig('dens_rev',transparent=True, bbox_inches='tight')"
   ]
  },
  {
   "cell_type": "code",
   "execution_count": null,
   "metadata": {
    "ExecuteTime": {
     "start_time": "2021-09-10T16:12:21.395Z"
    }
   },
   "outputs": [],
   "source": [
    "of_scale=exp_scale.loc[\n",
    "    [i for i in exp_scale.index if exp_scale.Office[i] in [\"Richmond\", \"Houston\", \"New York\", \"Chicago\"]]\n",
    "    ]"
   ]
  },
  {
   "cell_type": "code",
   "execution_count": null,
   "metadata": {
    "ExecuteTime": {
     "start_time": "2021-09-10T16:12:21.396Z"
    }
   },
   "outputs": [],
   "source": [
    "xticks=[str(i)[:7]for i in list(set(of_scale.month_year))]\n",
    "xticks.sort()"
   ]
  },
  {
   "cell_type": "code",
   "execution_count": null,
   "metadata": {
    "ExecuteTime": {
     "start_time": "2021-09-10T16:12:21.398Z"
    },
    "scrolled": false
   },
   "outputs": [],
   "source": [
    "sns.catplot(\n",
    "    x='month_year',y='Settlement Amount', hue='Office', aspect=2.5,kind='point',\n",
    "    palette=palette,data= of_scale)\n",
    "locs, labels=plt.xticks()\n",
    "plt.xticks(locs,xticks, rotation=45, horizontalalignment='right')\n",
    "plt.xlabel('Mont Year Period')\n",
    "plt.ylabel('Profit')\n",
    "plt.savefig('off_prof',transparent=True, bbox_inches='tight')\n",
    "plt.show()"
   ]
  },
  {
   "cell_type": "markdown",
   "metadata": {},
   "source": [
    "## 4. Attorneys that should be put on a PIP"
   ]
  },
  {
   "cell_type": "code",
   "execution_count": null,
   "metadata": {
    "ExecuteTime": {
     "start_time": "2021-09-10T16:12:21.399Z"
    }
   },
   "outputs": [],
   "source": [
    "performance=pd.merge(emp,settle,left_on='Employee ID',right_on='Handling Attorney: Employee ID')\\\n",
    "[['Hire Date','Handling Attorney Name','Settlement Amount','Case Expenses']]"
   ]
  },
  {
   "cell_type": "code",
   "execution_count": null,
   "metadata": {
    "ExecuteTime": {
     "start_time": "2021-09-10T16:12:21.401Z"
    }
   },
   "outputs": [],
   "source": [
    "performance['Collection Rate']=round(performance['Settlement Amount']/performance['Case Expenses'],2)\n",
    "performance['profit']=round(performance['Settlement Amount']-performance['Case Expenses'],2)"
   ]
  },
  {
   "cell_type": "code",
   "execution_count": null,
   "metadata": {
    "ExecuteTime": {
     "start_time": "2021-09-10T16:12:21.403Z"
    }
   },
   "outputs": [],
   "source": [
    "performance['Expense percent']=round((performance['Case Expenses']*100)/performance['Settlement Amount'])\n",
    "performance['years working']=2021-pd.DatetimeIndex(pd.to_datetime(performance['Hire Date'],format='%Y%m%d')).year\n",
    "low_perf=performance.groupby('Handling Attorney Name').mean().reset_index().sort_values(by=['Collection Rate']).head(10)\n",
    "low_perf.profit=pd.to_numeric(round(low_perf['profit']), downcast='integer')"
   ]
  },
  {
   "cell_type": "code",
   "execution_count": null,
   "metadata": {
    "ExecuteTime": {
     "start_time": "2021-09-10T16:12:21.406Z"
    },
    "scrolled": false
   },
   "outputs": [],
   "source": [
    "sns.catplot(data=low_perf, x=\"Case Expenses\", y=\"Collection Rate\",s=10,aspect=1.8,hue=\"Handling Attorney Name\")\n",
    "locs, labels=plt.xticks()\n",
    "xticks=[round(float(str(l)[12:-2]))for l in labels]\n",
    "plt.xticks(locs,xticks)\n",
    "plt.show()"
   ]
  },
  {
   "cell_type": "code",
   "execution_count": null,
   "metadata": {
    "ExecuteTime": {
     "start_time": "2021-09-10T16:12:21.408Z"
    },
    "scrolled": false
   },
   "outputs": [],
   "source": [
    "ax=sns.catplot(\n",
    "    x='years working',y='Collection Rate',hue='Handling Attorney Name',s=10, aspect=1.8,\n",
    "    data=low_perf,legend_out=True)\n",
    "plt.xlabel('Years in Company')\n",
    "plt.title('Low Performance Attorneys''\\n')\n",
    "plt.show"
   ]
  },
  {
   "cell_type": "code",
   "execution_count": null,
   "metadata": {},
   "outputs": [],
   "source": []
  }
 ],
 "metadata": {
  "kernelspec": {
   "display_name": "Python 3",
   "language": "python",
   "name": "python3"
  },
  "language_info": {
   "codemirror_mode": {
    "name": "ipython",
    "version": 3
   },
   "file_extension": ".py",
   "mimetype": "text/x-python",
   "name": "python",
   "nbconvert_exporter": "python",
   "pygments_lexer": "ipython3",
   "version": "3.8.3"
  }
 },
 "nbformat": 4,
 "nbformat_minor": 4
}
